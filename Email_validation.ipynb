{
 "cells": [
  {
   "cell_type": "code",
   "execution_count": 5,
   "id": "bbe48fc6-2eac-468b-ab14-4eefd8c37294",
   "metadata": {},
   "outputs": [
    {
     "name": "stdin",
     "output_type": "stream",
     "text": [
      " Enter your email:  fjhvj\n"
     ]
    },
    {
     "name": "stdout",
     "output_type": "stream",
     "text": [
      "Invalid Email 1\n"
     ]
    }
   ],
   "source": [
    "email=input(\" Enter your email: \") #asking the user to put email\n",
    "k,j,d=0,0,0 #3 arbitary variables\n",
    "if len(email)>=6:\n",
    "    if email[0].isalpha():\n",
    "        if (\"@\" in email) and (email.count(\"@\")==1):\n",
    "            if (email[-4]==\".\") ^ (email[-3]==\".\"):\n",
    "                for i in email:\n",
    "                    if i==i.isspace():\n",
    "                        k=1\n",
    "                    elif i.isalpha():\n",
    "                        if i==i.upper():\n",
    "                            j=1\n",
    "                    elif i.isdigit():\n",
    "                        continue\n",
    "                    elif i==\"_\" or i== \".\" or i==\"@\":\n",
    "                        continue\n",
    "                    else:\n",
    "                        d=1\n",
    "                if k==1 or j==1 or d==1:\n",
    "                    print(\"Invalid Email 5\") #invalid email format-type 5 error\n",
    "                else:\n",
    "                    print(\"Right Email Format\") #right email format\n",
    "            else:\n",
    "                print(\"Invalid Email 4\") #invalid email format-type 4 error\n",
    "            \n",
    "        else:\n",
    "            print(\"Invalid Email 3\") #invalid email format-type 3 error\n",
    "    else:\n",
    "        print(\"Invalid Email 2\") #invalid email format-type 2 error\n",
    "else:\n",
    "    print(\"Invalid Email 1\") #invalid email format-type 1 error"
   ]
  },
  {
   "cell_type": "code",
   "execution_count": null,
   "id": "a8a45d69-b42a-4ad1-9e56-03ebcc43a6d4",
   "metadata": {},
   "outputs": [],
   "source": []
  }
 ],
 "metadata": {
  "kernelspec": {
   "display_name": "Python 3 (ipykernel)",
   "language": "python",
   "name": "python3"
  },
  "language_info": {
   "codemirror_mode": {
    "name": "ipython",
    "version": 3
   },
   "file_extension": ".py",
   "mimetype": "text/x-python",
   "name": "python",
   "nbconvert_exporter": "python",
   "pygments_lexer": "ipython3",
   "version": "3.10.8"
  }
 },
 "nbformat": 4,
 "nbformat_minor": 5
}
